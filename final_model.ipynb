{
  "nbformat": 4,
  "nbformat_minor": 0,
  "metadata": {
    "colab": {
      "provenance": []
    },
    "kernelspec": {
      "name": "python3",
      "display_name": "Python 3"
    },
    "language_info": {
      "name": "python"
    }
  },
  "cells": [
    {
      "cell_type": "code",
      "execution_count": null,
      "metadata": {
        "id": "6Vb_DF4f1erX"
      },
      "outputs": [],
      "source": [
        "import pickle\n",
        "import pandas as pd\n",
        "import numpy as np\n",
        "from sklearn.model_selection import train_test_split\n",
        "from sklearn.linear_model import LinearRegression\n",
        "from sklearn.metrics import mean_squared_error"
      ]
    },
    {
      "cell_type": "code",
      "source": [
        "loaded_model = pickle.load(open(\"/content/finalized_model.sav\", 'rb'))"
      ],
      "metadata": {
        "id": "tBNskMif1w5S"
      },
      "execution_count": null,
      "outputs": []
    },
    {
      "cell_type": "code",
      "source": [
        "\n",
        "new_data = pd.DataFrame({'Rating': [4],\n",
        "                         'Battery': [3000],\n",
        "                         'Ram':[3],\n",
        "                         \"Rom\":[32]\n",
        "\n",
        "                        })\n",
        "\n",
        "\n",
        "predicted_price = loaded_model.predict(new_data)\n",
        "\n",
        "print(\"Predicted Price:\", predicted_price)"
      ],
      "metadata": {
        "colab": {
          "base_uri": "https://localhost:8080/"
        },
        "id": "dZoHc-ti14-d",
        "outputId": "aedd43b3-73c4-4545-88db-7eceda25e205"
      },
      "execution_count": null,
      "outputs": [
        {
          "output_type": "stream",
          "name": "stdout",
          "text": [
            "Predicted Price: [9196.96523744]\n"
          ]
        }
      ]
    }
  ]
}